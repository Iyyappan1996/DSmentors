{
  "cells": [
    {
      "cell_type": "markdown",
      "metadata": {
        "id": "view-in-github",
        "colab_type": "text"
      },
      "source": [
        "<a href=\"https://colab.research.google.com/github/Iyyappan1996/DSmentors/blob/main/Assesement_2B.ipynb\" target=\"_parent\"><img src=\"https://colab.research.google.com/assets/colab-badge.svg\" alt=\"Open In Colab\"/></a>"
      ]
    },
    {
      "cell_type": "markdown",
      "metadata": {
        "id": "BxTDbY5JMat0"
      },
      "source": []
    },
    {
      "cell_type": "markdown",
      "metadata": {
        "id": "rQav3i24Mat5"
      },
      "source": [
        "###### I am going to provide two .csv files , you are supposed to work on them and have to provide solutions to the following problems"
      ]
    },
    {
      "cell_type": "markdown",
      "metadata": {
        "id": "_2vLNXCCMat6"
      },
      "source": [
        "###### import necessary libraries"
      ]
    },
    {
      "cell_type": "code",
      "execution_count": null,
      "metadata": {
        "id": "BGjs1plsMat6"
      },
      "outputs": [],
      "source": [
        "import pandas as pd\n",
        "import numpy as np\n",
        "import matplotlib.pyplot as plt"
      ]
    },
    {
      "cell_type": "markdown",
      "metadata": {
        "id": "-r04ev_zMat7"
      },
      "source": [
        "###### merge those two csv files (after getting as dataframes, get them as a single dataframe)"
      ]
    },
    {
      "cell_type": "code",
      "execution_count": null,
      "metadata": {
        "id": "oWM80CxzMat7",
        "colab": {
          "base_uri": "https://localhost:8080/"
        },
        "outputId": "cad661f6-6fe3-4dd1-c93b-7f9eb902fac0"
      },
      "outputs": [
        {
          "output_type": "stream",
          "name": "stderr",
          "text": [
            "/usr/local/lib/python3.7/dist-packages/pandas/core/reshape/merge.py:1208: UserWarning: You are merging on int and float columns where the float values are not equal to their int representation\n",
            "  UserWarning,\n"
          ]
        }
      ],
      "source": [
        "college_1=pd.read_csv(\"college_1.csv\")\n",
        "college_2=pd.read_csv(\"college_2.csv\")\n",
        "single_frame=pd.merge(college_1,college_2,how=\"outer\")\n",
        "single_frame.to_csv(\"single_frame.csv\")\n",
        "import_singleframe=pd.read_csv(\"single_frame.csv\")"
      ]
    },
    {
      "cell_type": "markdown",
      "metadata": {
        "id": "b2OurgChMat8"
      },
      "source": [
        "###### Take each csv file , split that csv file into multiple categories (example csv files are added in the repo) \n"
      ]
    },
    {
      "cell_type": "markdown",
      "metadata": {
        "id": "7pqv78QkMat9"
      },
      "source": [
        "###### consider if the codekata score exceeds 15000 points(present week) then make a csv on those observations as Exceeded expectations.csv\n"
      ]
    },
    {
      "cell_type": "code",
      "source": [
        "Exceeded_expectations=single_frame[single_frame[\"CodeKata Score\"]>15000]\n",
        "Exceeded_expectations.to_csv(\"Exceeded_expectations.csv\")"
      ],
      "metadata": {
        "id": "ZK_sFEcEkcXQ"
      },
      "execution_count": null,
      "outputs": []
    },
    {
      "cell_type": "markdown",
      "metadata": {
        "id": "Ri9Rr64TMat-"
      },
      "source": [
        "###### if  10000<codekata score<15000   (Reached_expectations.csv)\n",
        "\n"
      ]
    },
    {
      "cell_type": "code",
      "source": [
        "Reached_Expectaion=single_frame[(single_frame[\"CodeKata Score\"]>10000) & (single_frame[\"CodeKata Score\"]<15000)]\n",
        "Reached_Expectaion.to_csv(\"Reached_Expectaion.csv\")"
      ],
      "metadata": {
        "id": "J-Eqo5YvkrcB"
      },
      "execution_count": null,
      "outputs": []
    },
    {
      "cell_type": "markdown",
      "metadata": {
        "id": "l7yJ3BBvMat-"
      },
      "source": [
        "###### if  7000<codekata score<10000   (Needs_Improvement.csv)\n"
      ]
    },
    {
      "cell_type": "code",
      "source": [
        "Needs_Improvement=single_frame[(single_frame[\"CodeKata Score\"]>7000) & (single_frame[\"CodeKata Score\"]<10000)]\n",
        "Needs_Improvement.to_csv(\"Needs_Improvement.csv\")"
      ],
      "metadata": {
        "id": "l482hfMQks7O"
      },
      "execution_count": null,
      "outputs": []
    },
    {
      "cell_type": "markdown",
      "metadata": {
        "id": "_PnOSgbrMat_"
      },
      "source": [
        "###### if  codekate score < 7000        (Unsatisfactory.csv)"
      ]
    },
    {
      "cell_type": "code",
      "execution_count": null,
      "metadata": {
        "id": "R5eu5CK4MauA"
      },
      "outputs": [],
      "source": [
        "Unsatisfactory=single_frame[single_frame[\"CodeKata Score\"]<7000]\n",
        "Unsatisfactory.to_csv(\"Unsatisfactory.csv\")"
      ]
    },
    {
      "cell_type": "markdown",
      "source": [
        "Average of previous week geekions vs this week geekions (i.e Previous Geekions vs CodeKata Score)"
      ],
      "metadata": {
        "id": "pd61xD06loPN"
      }
    },
    {
      "cell_type": "code",
      "execution_count": null,
      "metadata": {
        "id": "YW3lge2AMauB"
      },
      "outputs": [],
      "source": [
        "Average_Previous_Geekions=single_frame[\"Previous Geekions\"].mean()\n",
        "Average_CodeKata_Score=single_frame[\"CodeKata Score\"].mean()"
      ]
    },
    {
      "cell_type": "markdown",
      "metadata": {
        "id": "2stJ6HLFMauB"
      },
      "source": [
        "###### No of students participated "
      ]
    },
    {
      "cell_type": "code",
      "execution_count": null,
      "metadata": {
        "id": "ts60FlopMauB",
        "colab": {
          "base_uri": "https://localhost:8080/"
        },
        "outputId": "945f203a-a5df-43c9-94ab-aa4530c718ff"
      },
      "outputs": [
        {
          "output_type": "execute_result",
          "data": {
            "text/plain": [
              "119"
            ]
          },
          "metadata": {},
          "execution_count": 9
        }
      ],
      "source": [
        "Participate=single_frame[\"Name\"].count()\n",
        "Participate"
      ]
    },
    {
      "cell_type": "markdown",
      "metadata": {
        "id": "4rIxNcGoMauC"
      },
      "source": [
        "###### #Average completion of python course or my_sql or python english or computational thinking"
      ]
    },
    {
      "cell_type": "code",
      "execution_count": null,
      "metadata": {
        "id": "brbUrzIUMauC"
      },
      "outputs": [],
      "source": [
        "python_en=single_frame[\"python_en\"].mean()\n",
        "computational_thinking=single_frame[\"computational_thinking\"].mean()\n",
        "python=single_frame[\"python\"].mean()\n",
        "mysql=single_frame[\"mysql\"].mean()"
      ]
    },
    {
      "cell_type": "markdown",
      "metadata": {
        "id": "Ekhcbp86MauC"
      },
      "source": [
        "###### rising star of the week (top 3 candidate who performed well in that particular week)"
      ]
    },
    {
      "cell_type": "code",
      "execution_count": null,
      "metadata": {
        "id": "_voWdTb_MauD",
        "colab": {
          "base_uri": "https://localhost:8080/"
        },
        "outputId": "f587b765-a574-4275-fa85-35b974e28d52"
      },
      "outputs": [
        {
          "output_type": "execute_result",
          "data": {
            "text/plain": [
              "92     3140\n",
              "86     2000\n",
              "102    2000\n",
              "Name: Rising, dtype: int64"
            ]
          },
          "metadata": {},
          "execution_count": 12
        }
      ],
      "source": [
        "Rising_star=single_frame[\"Rising\"].nlargest(3)\n",
        "Rising_star"
      ]
    },
    {
      "cell_type": "markdown",
      "metadata": {
        "id": "sF5ny_CDMauD"
      },
      "source": [
        "###### Shining stars of the week (top 3 candidates who has highest geekions)"
      ]
    },
    {
      "cell_type": "code",
      "execution_count": null,
      "metadata": {
        "id": "fiPDNC-JMauD",
        "colab": {
          "base_uri": "https://localhost:8080/"
        },
        "outputId": "5a5f0213-777b-400a-ace2-a385cea0e1fa"
      },
      "outputs": [
        {
          "output_type": "execute_result",
          "data": {
            "text/plain": [
              "0    24500\n",
              "1    21740\n",
              "2    19680\n",
              "Name: CodeKata Score, dtype: int64"
            ]
          },
          "metadata": {},
          "execution_count": 13
        }
      ],
      "source": [
        "shining_star=single_frame[\"CodeKata Score\"].nlargest(3)\n",
        "shining_star"
      ]
    },
    {
      "cell_type": "markdown",
      "metadata": {
        "id": "8EWom9OsMauD"
      },
      "source": [
        "###### Department wise codekata performence (pie chart)"
      ]
    },
    {
      "cell_type": "code",
      "execution_count": null,
      "metadata": {
        "id": "VhH7XCPpMauD",
        "colab": {
          "base_uri": "https://localhost:8080/",
          "height": 248
        },
        "outputId": "66f27c51-48a2-4165-f67d-8a18f6311c39"
      },
      "outputs": [
        {
          "output_type": "display_data",
          "data": {
            "text/plain": [
              "<Figure size 432x288 with 1 Axes>"
            ],
            "image/png": "[encoded data removed]"
          },
          "metadata": {}
        }
      ],
      "source": [
        "value=single_frame[\"Department\"]==\"Electronics and Communication Engineering\"\n",
        "Electronics_and_Communication_Engineering=single_frame.loc[value,\"CodeKata Score\"].sum()\n",
        "value=single_frame[\"Department\"]==\"Electronics and Electrical Engineering\"\n",
        "Electronics_and_Electrical_Engineering=single_frame.loc[value,\"CodeKata Score\"].sum()\n",
        "value=single_frame[\"Department\"]==\"Computer Science and Engineering\"\n",
        "Computer_Science_and_Engineering=single_frame.loc[value,\"CodeKata Score\"].sum()\n",
        "label=[\"Computer Science and Engineering\",\"Electronics and Electrical Engineering\",\"Electronics and Electrical Engineering\"]\n",
        "Exp_values=[Computer_Science_and_Engineering,Electronics_and_Electrical_Engineering,Electronics_and_Electrical_Engineering]\n",
        "Exp_labels=[\"Computer Science and Engineering\",\"Electronics and Electrical Engineering\",\"Electronics and Electrical Engineering\"]\n",
        "plt.pie(Exp_values,labels=Exp_labels,shadow=True,explode=[0.1,0,0,],autopct=\"%0.2f%%\")\n",
        "plt.show()"
      ]
    },
    {
      "cell_type": "markdown",
      "metadata": {
        "id": "jkl6BfhFMauE"
      },
      "source": [
        "###### Department wise toppers (horizantal bar graph or any visual representations of your choice)"
      ]
    },
    {
      "cell_type": "code",
      "execution_count": null,
      "metadata": {
        "id": "j-12JEciMauE",
        "colab": {
          "base_uri": "https://localhost:8080/",
          "height": 295
        },
        "outputId": "98309ba6-3aca-44b0-b178-90e859bbf1d9"
      },
      "outputs": [
        {
          "output_type": "display_data",
          "data": {
            "text/plain": [
              "<Figure size 432x288 with 1 Axes>"
            ],
            "image/png": "[encoded data removed]"
          },
          "metadata": {
            "needs_background": "light"
          }
        }
      ],
      "source": [
        "value=single_frame[\"Department\"]==\"Computer Science and Engineering\"\n",
        "CSE=single_frame.loc[value,\"CodeKata Score\"].max()\n",
        "value=single_frame[\"Department\"]==\"Electronics and Electrical Engineering\"\n",
        "EEE=single_frame.loc[value,\"CodeKata Score\"].max()\n",
        "value=single_frame[\"Department\"]==\"Electronics and Communication Engineering\"\n",
        "ECE=single_frame.loc[value,\"CodeKata Score\"].max()\n",
        "X_values=[CSE,ECE,EEE]\n",
        "Y_values=[\"CSE\",\"ECE\",\"EEE\"]\n",
        "plt.bar(Y_values,X_values,width=0.5,label=\"scorelevel\")\n",
        "plt.xlabel(\"Department\")\n",
        "plt.ylabel(\"Codekata_score\")\n",
        "plt.title(\"Topper of the department\")\n",
        "plt.legend()\n",
        "plt.show()"
      ]
    },
    {
      "cell_type": "code",
      "execution_count": null,
      "metadata": {
        "id": "kO1dkpvcMauE"
      },
      "outputs": [],
      "source": []
    },
    {
      "cell_type": "code",
      "execution_count": null,
      "metadata": {
        "id": "GDc_7EW6MauE"
      },
      "outputs": [],
      "source": []
    },
    {
      "cell_type": "code",
      "execution_count": null,
      "metadata": {
        "id": "7XZyChoFMauE"
      },
      "outputs": [],
      "source": []
    }
  ],
  "metadata": {
    "kernelspec": {
      "display_name": "Python 3",
      "language": "python",
      "name": "python3"
    },
    "language_info": {
      "codemirror_mode": {
        "name": "ipython",
        "version": 3
      },
      "file_extension": ".py",
      "mimetype": "text/x-python",
      "name": "python",
      "nbconvert_exporter": "python",
      "pygments_lexer": "ipython3",
      "version": "3.8.3"
    },
    "colab": {
      "provenance": [],
      "collapsed_sections": [],
      "name": "Assesement 2B",
      "include_colab_link": true
    }
  },
  "nbformat": 4,
  "nbformat_minor": 0
}